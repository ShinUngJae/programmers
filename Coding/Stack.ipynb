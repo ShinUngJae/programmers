{
 "cells": [
  {
   "cell_type": "code",
   "execution_count": 1,
   "metadata": {},
   "outputs": [],
   "source": [
    "class Stack :\n",
    "\n",
    "    def __init__(self) :\n",
    "        self.stack = []\n",
    "\n",
    "    def push(self, item) :\n",
    "        self.stack.append(item)\n",
    "\n",
    "    def size(self) :\n",
    "        return len(self.stack)\n",
    "\n",
    "    def empty(self) :\n",
    "        return self.size() == 0\n",
    "\n",
    "    def pop(self) :\n",
    "        if self.empty() :\n",
    "            return 'Size of the stack is 0'\n",
    "        else :\n",
    "            return self.stack.pop()\n",
    "\n",
    "    def peek(self) :\n",
    "        if self.empty() :\n",
    "            return 'Size of the stack is 0'\n",
    "        else :\n",
    "            return self.stack[-1]"
   ]
  },
  {
   "cell_type": "code",
   "execution_count": 2,
   "metadata": {},
   "outputs": [
    {
     "data": {
      "text/plain": [
       "True"
      ]
     },
     "execution_count": 2,
     "metadata": {},
     "output_type": "execute_result"
    }
   ],
   "source": [
    "My_stack = Stack()\n",
    "My_stack.empty()"
   ]
  },
  {
   "cell_type": "code",
   "execution_count": 3,
   "metadata": {},
   "outputs": [
    {
     "name": "stdout",
     "output_type": "stream",
     "text": [
      "[100]\n"
     ]
    }
   ],
   "source": [
    "My_stack.push(100)\n",
    "print(My_stack.stack)"
   ]
  },
  {
   "cell_type": "code",
   "execution_count": 4,
   "metadata": {},
   "outputs": [
    {
     "name": "stdout",
     "output_type": "stream",
     "text": [
      "[100, 200, 300]\n",
      "3\n"
     ]
    }
   ],
   "source": [
    "My_stack.push(200)\n",
    "My_stack.push(300)\n",
    "print(My_stack.stack)\n",
    "print(My_stack.size())"
   ]
  },
  {
   "cell_type": "code",
   "execution_count": 5,
   "metadata": {},
   "outputs": [
    {
     "name": "stdout",
     "output_type": "stream",
     "text": [
      "[100, 200]\n"
     ]
    }
   ],
   "source": [
    "My_stack.pop()\n",
    "print(My_stack.stack)"
   ]
  },
  {
   "cell_type": "code",
   "execution_count": 6,
   "metadata": {},
   "outputs": [
    {
     "name": "stdout",
     "output_type": "stream",
     "text": [
      "200\n",
      "[100, 200]\n"
     ]
    }
   ],
   "source": [
    "print(My_stack.peek())\n",
    "print(My_stack.stack)"
   ]
  },
  {
   "cell_type": "code",
   "execution_count": 7,
   "metadata": {},
   "outputs": [
    {
     "name": "stdout",
     "output_type": "stream",
     "text": [
      "[]\n",
      "Size of the stack is 0\n",
      "Size of the stack is 0\n"
     ]
    }
   ],
   "source": [
    "My_stack.pop()\n",
    "My_stack.pop()\n",
    "print(My_stack.stack)\n",
    "print(My_stack.pop())\n",
    "print(My_stack.peek())"
   ]
  }
 ],
 "metadata": {
  "kernelspec": {
   "display_name": "Python 3",
   "language": "python",
   "name": "python3"
  },
  "language_info": {
   "codemirror_mode": {
    "name": "ipython",
    "version": 3
   },
   "file_extension": ".py",
   "mimetype": "text/x-python",
   "name": "python",
   "nbconvert_exporter": "python",
   "pygments_lexer": "ipython3",
   "version": "3.9.1"
  },
  "orig_nbformat": 4,
  "vscode": {
   "interpreter": {
    "hash": "b7d3ae88c70281616ce53357068d7df03f7587ab96c9ed00378a50123796d835"
   }
  }
 },
 "nbformat": 4,
 "nbformat_minor": 2
}
